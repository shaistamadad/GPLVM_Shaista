{
 "cells": [
  {
   "cell_type": "markdown",
   "id": "religious-video",
   "metadata": {},
   "source": [
    "First install and import all the requires packages "
   ]
  },
  {
   "cell_type": "markdown",
   "id": "olympic-seminar",
   "metadata": {},
   "source": [
    "First install the necessary packages"
   ]
  },
  {
   "cell_type": "code",
   "execution_count": 88,
   "id": "cutting-playback",
   "metadata": {},
   "outputs": [],
   "source": [
    "#pip install -U scvelo"
   ]
  },
  {
   "cell_type": "code",
   "execution_count": null,
   "id": "violent-teach",
   "metadata": {},
   "outputs": [],
   "source": [
    "#conda install pytorch torchvision -c pytorch"
   ]
  },
  {
   "cell_type": "code",
   "execution_count": null,
   "id": "aquatic-event",
   "metadata": {},
   "outputs": [],
   "source": [
    "#pip install python-igraph louvain"
   ]
  },
  {
   "cell_type": "code",
   "execution_count": null,
   "id": "together-ghana",
   "metadata": {},
   "outputs": [],
   "source": [
    "#pip install pybind11 hnswlib"
   ]
  },
  {
   "cell_type": "code",
   "execution_count": null,
   "id": "local-parameter",
   "metadata": {},
   "outputs": [],
   "source": [
    "#pip install gpytorch==1.4.1"
   ]
  },
  {
   "cell_type": "code",
   "execution_count": 28,
   "id": "skilled-filing",
   "metadata": {},
   "outputs": [
    {
     "data": {
      "text/plain": [
       "'1.5.1'"
      ]
     },
     "execution_count": 28,
     "metadata": {},
     "output_type": "execute_result"
    }
   ],
   "source": [
    "#gpytorch.__version__ #downgrade"
   ]
  },
  {
   "cell_type": "code",
   "execution_count": 1,
   "id": "under-heart",
   "metadata": {},
   "outputs": [],
   "source": [
    "import scvelo as scv"
   ]
  },
  {
   "cell_type": "code",
   "execution_count": 2,
   "id": "creative-silicon",
   "metadata": {},
   "outputs": [],
   "source": [
    "import os, torch\n",
    "import numpy as np\n",
    "from scanpy import read_h5ad\n",
    "from collections import namedtuple"
   ]
  },
  {
   "cell_type": "code",
   "execution_count": 27,
   "id": "removable-layout",
   "metadata": {},
   "outputs": [],
   "source": [
    "import gpytorch"
   ]
  },
  {
   "cell_type": "code",
   "execution_count": 3,
   "id": "industrial-birmingham",
   "metadata": {},
   "outputs": [],
   "source": [
    "import sys  #sys and os \n",
    "cwd = './BGPLVM_scRNA/' #madd BGPLVM to path so the models module can be imported easily \n",
    "sys.path.append(cwd)\n",
    "import models  #good practice to make the first chunk to import all the packages you need to avoid import calls in the middle of the script "
   ]
  },
  {
   "cell_type": "code",
   "execution_count": 4,
   "id": "virgin-vacation",
   "metadata": {},
   "outputs": [],
   "source": [
    "from models.demo_model import GPLVM, train"
   ]
  },
  {
   "cell_type": "code",
   "execution_count": 6,
   "id": "unauthorized-orange",
   "metadata": {},
   "outputs": [],
   "source": [
    "from models.demo_model import GPLVM"
   ]
  },
  {
   "cell_type": "code",
   "execution_count": 7,
   "id": "frequent-fleece",
   "metadata": {},
   "outputs": [],
   "source": [
    "from models.likelihoods import GaussianLikelihoodWithMissingObs"
   ]
  },
  {
   "cell_type": "code",
   "execution_count": 8,
   "id": "international-moses",
   "metadata": {},
   "outputs": [
    {
     "data": {
      "text/plain": [
       "<torch._C.Generator at 0x7fc52ebf9e70>"
      ]
     },
     "execution_count": 8,
     "metadata": {},
     "output_type": "execute_result"
    }
   ],
   "source": [
    "import matplotlib.pyplot as plt\n",
    "plt.ion(); plt.style.use('ggplot')\n",
    "\n",
    "torch.manual_seed(42)"
   ]
  },
  {
   "cell_type": "markdown",
   "id": "cathedral-magazine",
   "metadata": {},
   "source": [
    "Import the pancreas dataset from the scVelo package "
   ]
  },
  {
   "cell_type": "code",
   "execution_count": 9,
   "id": "polyphonic-rally",
   "metadata": {},
   "outputs": [],
   "source": [
    "pancreasData=scv.datasets.pancreas()"
   ]
  },
  {
   "cell_type": "code",
   "execution_count": 10,
   "id": "healthy-minnesota",
   "metadata": {},
   "outputs": [
    {
     "data": {
      "text/plain": [
       "AnnData object with n_obs × n_vars = 3696 × 27998\n",
       "    obs: 'clusters_coarse', 'clusters', 'S_score', 'G2M_score'\n",
       "    var: 'highly_variable_genes'\n",
       "    uns: 'clusters_coarse_colors', 'clusters_colors', 'day_colors', 'neighbors', 'pca'\n",
       "    obsm: 'X_pca', 'X_umap'\n",
       "    layers: 'spliced', 'unspliced'\n",
       "    obsp: 'distances', 'connectivities'"
      ]
     },
     "execution_count": 10,
     "metadata": {},
     "output_type": "execute_result"
    }
   ],
   "source": [
    "pancreasData"
   ]
  },
  {
   "cell_type": "markdown",
   "id": "altered-database",
   "metadata": {},
   "source": [
    "Run the main code on the ipsc dataset "
   ]
  },
  {
   "cell_type": "code",
   "execution_count": 11,
   "id": "toxic-drill",
   "metadata": {},
   "outputs": [],
   "source": [
    "if __name__ == '__main__':\n",
    "    input_h5ad = '/home/jovyan/mount/gdrive/rotation1/ipsc_scRNA.h5ad'\n",
    "    adata = read_h5ad(input_h5ad)\n",
    "\n",
    "    Y = adata.X.copy()\n",
    "    missing_loc = ~(Y != 0).todense()\n",
    "    Y = Y.todense()\n",
    "    Y[missing_loc] = np.nan\n",
    "\n",
    "    (n, d), q = Y.shape, 6\n",
    "\n",
    "    model = GPLVM(n, d, q, n_inducing=64, period_scale=np.pi,\n",
    "                   X_init=adata.obsm[\"X_init\"])\n",
    "    likelihood = GaussianLikelihoodWithMissingObs(batch_shape=model.batch_shape)\n",
    "\n",
    "    if torch.cuda.is_available():\n",
    "        device = 'cuda'\n",
    "        model = model.cuda()\n",
    "        likelihood = likelihood.cuda()\n",
    "    else:\n",
    "        device = 'cpu'\n",
    "\n",
    "   "
   ]
  },
  {
   "cell_type": "code",
   "execution_count": 12,
   "id": "attempted-official",
   "metadata": {},
   "outputs": [
    {
     "data": {
      "text/plain": [
       "False"
      ]
     },
     "execution_count": 12,
     "metadata": {},
     "output_type": "execute_result"
    }
   ],
   "source": [
    "torch.cuda.is_available()"
   ]
  },
  {
   "cell_type": "code",
   "execution_count": 13,
   "id": "wound-wheel",
   "metadata": {},
   "outputs": [],
   "source": [
    "Y = torch.tensor(Y, device=device)"
   ]
  },
  {
   "cell_type": "code",
   "execution_count": 14,
   "id": "japanese-finance",
   "metadata": {},
   "outputs": [
    {
     "data": {
      "text/plain": [
       "tensor([[   nan,    nan, 0.4649,  ..., 2.0163, 0.4649, 0.2592],\n",
       "        [0.0389,    nan, 0.2137,  ..., 2.7196, 0.3624, 0.3624],\n",
       "        [0.0510,    nan, 3.3554,  ..., 1.6751,    nan,    nan],\n",
       "        ...,\n",
       "        [   nan, 0.2920, 0.7018,  ..., 2.0945, 1.8061, 0.2038],\n",
       "        [0.6416, 0.3363, 0.4053,  ..., 1.8713, 0.5005, 0.7416],\n",
       "        [0.7664, 0.2846,    nan,  ..., 0.9935, 0.5699, 0.1524]])"
      ]
     },
     "execution_count": 14,
     "metadata": {},
     "output_type": "execute_result"
    }
   ],
   "source": [
    "Y"
   ]
  },
  {
   "cell_type": "code",
   "execution_count": null,
   "id": "registered-charleston",
   "metadata": {},
   "outputs": [
    {
     "name": "stderr",
     "output_type": "stream",
     "text": [
      "-elbo: 4073.87. Step: 31:   0%|          | 32/10000 [09:01<49:40:12, 17.94s/it]"
     ]
    }
   ],
   "source": [
    "losses = train(model, likelihood, Y, steps=10000, batch_size=40)"
   ]
  },
  {
   "cell_type": "code",
   "execution_count": null,
   "id": "smooth-stylus",
   "metadata": {},
   "outputs": [],
   "source": [
    " Y = torch.tensor(Y, device=device)\n",
    "    losses = train(model, likelihood, Y, steps=10000, batch_size=40)\n",
    "\n",
    "    ## Store model \n",
    "    adata.uns['model_state_dict'] = model.state_dict()\n",
    "    adata.uns['likelihood_state_dict'] = likelihood.state_dict()\n",
    "\n",
    "    ## Store latent dimensions\n",
    "    X_latent = model.X()[:, 1:].cpu().detach()\n",
    "    adata.obsm['X_BGPLVM_latent'] = X_latent\n",
    "\n",
    "    ## Store cellcycle pseudotime\n",
    "    t = model.X()[:, 0].cpu().detach()\n",
    "    adata.obs['cellcycle_pseudotime'] = t\n",
    "\n",
    "    adata.write_h5ad('{p}.trainedBGPLVM.h5ad'.format(p=input_h5ad.split('.h5ad')[0]))\n",
    "\n",
    "    genes = namedtuple('genes', ['CDC6', 'UBE2C', 'FN1'])\n",
    "    genes = genes(CDC6=4154, UBE2C=4493, FN1=845)\n",
    "\n",
    "    # Pseudotime plot\n",
    "    plt.scatter(t, Y[:, genes.FN1].detach().cpu(), alpha=0.05)\n",
    "    plt.title('FN1')\n",
    "    plt.xlabel('tau')\n",
    "    plt.ylabel('log(cpm/100 + 1)')\n",
    "\n",
    "    x_fwd = torch.zeros(100, q+1)\n",
    "    x_fwd[:, 0] = torch.linspace(0, model.X.period_scale, 100)\n",
    "    y_fwd = model.cpu()(x_fwd, batch_idx=torch.arange(100)).loc[genes.FN1, :].detach()\n",
    "    plt.plot(x_fwd[:, 0], y_fwd)\n",
    "\n",
    "    # # Latent dims plot\n",
    "    # plt.scatter(X[:, 1], X[:, 2], alpha=0.01)\n",
    "    # plt.xlabel('Latent Dim 1')\n",
    "    # plt.ylabel('Latent Dim 2')\n",
    "\n",
    "    t_bechmark = np.loadtxt('GASPACHO/Data/lv.txt')[:, 0]\n",
    "    plt.scatter(t_bechmark, t, alpha=0.01)\n",
    "    plt.xlabel('tau benchmark')\n",
    "    plt.ylabel('tau minibatch model run')\n",
    "    plt.title('Tau Comparison')"
   ]
  },
  {
   "cell_type": "code",
   "execution_count": null,
   "id": "desperate-contact",
   "metadata": {},
   "outputs": [],
   "source": []
  }
 ],
 "metadata": {
  "kernelspec": {
   "display_name": "Python (gplvm_shaista)",
   "language": "python",
   "name": "gplvm_shaista"
  },
  "language_info": {
   "codemirror_mode": {
    "name": "ipython",
    "version": 3
   },
   "file_extension": ".py",
   "mimetype": "text/x-python",
   "name": "python",
   "nbconvert_exporter": "python",
   "pygments_lexer": "ipython3",
   "version": "3.7.10"
  }
 },
 "nbformat": 4,
 "nbformat_minor": 5
}
