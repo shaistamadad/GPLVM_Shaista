{
 "cells": [
  {
   "cell_type": "markdown",
   "id": "pleasant-policy",
   "metadata": {
    "tags": []
   },
   "source": [
    "## Example python implementation for KNN purity score for unscaled data "
   ]
  },
  {
   "cell_type": "code",
   "execution_count": 5,
   "id": "21c94d46-125c-4267-bffe-546846fa1db8",
   "metadata": {},
   "outputs": [
    {
     "name": "stdout",
     "output_type": "stream",
     "text": [
      "/home/jupyter\n"
     ]
    }
   ],
   "source": [
    "cd"
   ]
  },
  {
   "cell_type": "code",
   "execution_count": 6,
   "id": "a7e8ebf3-0a5e-41d2-af77-ddf4c04f754f",
   "metadata": {},
   "outputs": [
    {
     "name": "stdout",
     "output_type": "stream",
     "text": [
      "/home/jupyter/GPLVM_Shaista\n"
     ]
    }
   ],
   "source": [
    "cd GPLVM_Shaista/"
   ]
  },
  {
   "cell_type": "code",
   "execution_count": 7,
   "id": "classical-audience",
   "metadata": {},
   "outputs": [],
   "source": [
    "import scanpy as sc\n",
    "import numpy as np\n",
    "import pandas as pd\n",
    "import matplotlib.pyplot as plt\n",
    "import seaborn as sns\n",
    "from Functions import knn_purity, proliferation_purity\n",
    "import scipy \n",
    "import scvelo as scv"
   ]
  },
  {
   "cell_type": "code",
   "execution_count": 8,
   "id": "b7545265-35d3-4373-a7e9-b727612ccfcf",
   "metadata": {},
   "outputs": [],
   "source": [
    "gastrulation= sc.read_h5ad('/home/jupyter/GPLVM_Shaista/ScaledVsUnscaled/Unscaled/gastrulation.h5ad')\n",
    "forebrain= sc.read_h5ad('/home/jupyter/GPLVM_Shaista/ScaledVsUnscaled/Unscaled/forebrain.h5ad')\n",
    "bonemarrow= sc.read_h5ad('/home/jupyter/GPLVM_Shaista/ScaledVsUnscaled/Unscaled/bonemarrow.h5ad')\n",
    "pancreas= sc.read_h5ad('/home/jupyter/GPLVM_Shaista/ScaledVsUnscaled/Unscaled/pancreas.h5ad')\n",
    "pbmc10k=sc.read_h5ad('/home/jupyter/GPLVM_Shaista/ScaledVsUnscaled/Unscaled/pbmc10k.h5ad')\n",
    "pbmc3k= sc.read_h5ad('/home/jupyter/GPLVM_Shaista/ScaledVsUnscaled/Unscaled/pbmc3k.h5ad')\n",
    "\n",
    "M_Cap=[]\n",
    "for i in range(len(gastrulation.var.index)):\n",
    "    M_Cap.append(gastrulation.var.index[i].upper())\n",
    "gastrulation.var.index=M_Cap\n",
    "\n",
    "M_Cap=[]\n",
    "for i in range(len(pancreas.var.index)):\n",
    "    M_Cap.append(pancreas.var.index[i].upper())\n",
    "pancreas.var.index=M_Cap\n",
    "\n",
    "\n",
    "forebrain.obs['celltype']=forebrain.obs['Clusters']\n",
    "pancreas.obs['celltype']=pancreas.obs['clusters']\n",
    "bonemarrow.obs['celltype']=bonemarrow.obs['clusters']\n",
    "pancreas.obs['celltype']=pancreas.obs['clusters']\n",
    "pbmc10k.obs['celltype']=pbmc10k.obs['predicted.celltype.l2']\n",
    "pbmc3k.obs['celltype']=pbmc3k.obs['predicted.celltype.l2']\n",
    "forebrain.obs['celltype'] = pd.Categorical(forebrain.obs.celltype)\n",
    "\n",
    "datasets=[ pancreas, forebrain, bonemarrow, pbmc10k, pbmc3k]\n",
    "for i in range(len(datasets)):\n",
    "    knn_purity(datasets[i], \"X_umap_pca\", 'celltype')\n",
    "    knn_purity(datasets[i], \"X_umap_gplvm_random\", 'celltype')\n",
    "    knn_purity(datasets[i], \"X_umap_gplvm_PC\", 'celltype')\n",
    "\n",
    "\n",
    "# Save knn scores\n",
    "\n",
    "knnpurity_data= pd.DataFrame(columns=['knn','condition', 'dataset'])\n",
    "datasets=[ pancreas, forebrain, bonemarrow,pbmc10k, pbmc3k]\n",
    "datasets_names=['pancreas', 'forebrain', 'bonemarrow', 'pbmc10k', 'pbmc3k']\n",
    "conditions=['knn_purity_X_umap_pca','knn_purity_X_umap_gplvm_PC','knn_purity_X_umap_gplvm_random']\n",
    "condition_names=['PCA', \"gplvm_PCA\", \"gplvm_random\"]\n",
    "for i in range(len(datasets)):\n",
    "    for j in range(len(conditions)):\n",
    "        tempdf= pd.DataFrame(columns=['knn','condition', 'dataset'])\n",
    "        tempdf['knn']= datasets[i].obs[conditions[j]]\n",
    "        tempdf['condition']= condition_names[j]\n",
    "        tempdf['dataset']= datasets_names[i]\n",
    "        knnpurity_data = pd.concat([knnpurity_data,tempdf])  \n",
    "\n",
    "#knnpurity_data.to_csv(\"/home/jupyter/GPLVM_Shaista/ScaledVsUnscaled/Unscaled/Knn_purity_unscaled.csv\")"
   ]
  },
  {
   "cell_type": "code",
   "execution_count": null,
   "id": "70ddfd60-1792-4101-97c4-f35fe2ae349e",
   "metadata": {},
   "outputs": [],
   "source": [
    "knn_unscaled=knnpurity_data"
   ]
  },
  {
   "cell_type": "code",
   "execution_count": 30,
   "id": "b644fa31-7e05-45ee-8f09-5ae1ce764725",
   "metadata": {},
   "outputs": [],
   "source": [
    "knn_unscaled.to_csv(\"/home/jupyter/GPLVM_Shaista/ScaledVsUnscaled/Unscaled/Knn_purity_unscaled.csv\")"
   ]
  },
  {
   "cell_type": "code",
   "execution_count": 9,
   "id": "frozen-express",
   "metadata": {},
   "outputs": [],
   "source": [
    "# # save everything once so don't have to rerun every time\n",
    "# gastrulation.write_h5ad('/home/jupyter/GPLVM_Shaista/Benchmarking/gastrulation.h5ad')\n",
    "# forebrain.write_h5ad('/home/jupyter/GPLVM_Shaista/Benchmarking/forebrain.h5ad')\n",
    "# bonemarrow.write_h5ad('/home/jupyter/GPLVM_Shaista/Benchmarking/bonemarrow.h5ad')\n",
    "# iPSC.write_h5ad('/home/jupyter/GPLVM_Shaista/Benchmarking/iPSC.h5ad')\n",
    "# pancreas.write_h5ad('/home/jupyter/GPLVM_Shaista/Benchmarking/pancreas.h5ad')\n",
    "# pbmc10k.write_h5ad('/home/jupyter/GPLVM_Shaista/Benchmarking/pbmc10k.h5ad')\n",
    "# pbmc3k.write_h5ad('/home/jupyter/GPLVM_Shaista/Benchmarking/pbmc3k.h5ad')"
   ]
  },
  {
   "cell_type": "markdown",
   "id": "82593457-a69a-4af9-88a8-164c103b9d42",
   "metadata": {},
   "source": [
    "## KNN_Purity Scaled "
   ]
  },
  {
   "cell_type": "code",
   "execution_count": 4,
   "id": "14b73fc0-3457-484a-b5fa-cf303e007e50",
   "metadata": {},
   "outputs": [],
   "source": [
    "gastrulation_scaled= sc.read_h5ad('/home/jupyter/GPLVM_Shaista/ScaledVsUnscaled/Scaled/gastrulation.h5ad')\n",
    "forebrain_scaled= sc.read_h5ad('/home/jupyter/GPLVM_Shaista/ScaledVsUnscaled/Scaled/forebrain.h5ad')\n",
    "bonemarrow_scaled=sc.read_h5ad('/home/jupyter/GPLVM_Shaista/ScaledVsUnscaled/Scaled/bonemarrow.h5ad')\n",
    "pancreas_scaled= sc.read_h5ad('/home/jupyter/GPLVM_Shaista/ScaledVsUnscaled/Scaled/pancreas.h5ad')\n",
    "pbmc10k_scaled=sc.read_h5ad('/home/jupyter/GPLVM_Shaista/ScaledVsUnscaled/Scaled/pbmc10k.h5ad')\n",
    "pbmc3k_scaled= sc.read_h5ad('/home/jupyter/GPLVM_Shaista/ScaledVsUnscaled/Scaled/pbmc3k.h5ad')\n",
    "\n",
    "M_Cap=[]\n",
    "for i in range(len(gastrulation_scaled.var.index)):\n",
    "    M_Cap.append(gastrulation_scaled.var.index[i].upper())\n",
    "gastrulation_scaled.var.index=M_Cap\n",
    "\n",
    "M_Cap=[]\n",
    "for i in range(len(pancreas_scaled.var.index)):\n",
    "    M_Cap.append(pancreas_scaled.var.index[i].upper())\n",
    "pancreas_scaled.var.index=M_Cap\n",
    "\n",
    "\n",
    "forebrain_scaled.obs['celltype']=forebrain_scaled.obs['Clusters']\n",
    "pancreas_scaled.obs['celltype']=pancreas_scaled.obs['clusters']\n",
    "bonemarrow_scaled.obs['celltype']=bonemarrow_scaled.obs['clusters']\n",
    "pancreas_scaled.obs['celltype']=pancreas_scaled.obs['clusters']\n",
    "pbmc10k_scaled.obs['celltype']=pbmc10k_scaled.obs['predicted.celltype.l2']\n",
    "pbmc3k_scaled.obs['celltype']=pbmc3k_scaled.obs['predicted.celltype.l2']\n",
    "forebrain_scaled.obs['celltype'] = pd.Categorical(forebrain_scaled.obs.celltype)\n",
    "\n",
    "datasets=[ pancreas_scaled, forebrain_scaled, bonemarrow_scaled, pbmc10k_scaled, pbmc3k_scaled]\n",
    "for i in range(len(datasets)):\n",
    "    knn_purity(datasets[i], \"X_umap_pca\", 'celltype')\n",
    "    knn_purity(datasets[i], \"X_umap_gplvm_random\", 'celltype')\n",
    "    knn_purity(datasets[i], \"X_umap_gplvm_PC\", 'celltype')\n",
    "\n",
    "\n",
    "# Save knn scores\n",
    "\n",
    "knnpurity_data= pd.DataFrame(columns=['knn','condition', 'dataset'])\n",
    "datasets=[ pancreas_scaled, forebrain_scaled, bonemarrow_scaled, pbmc10k_scaled, pbmc3k_scaled]\n",
    "datasets_names=['pancreas', 'forebrain', 'bonemarrow', 'pbmc10k', 'pbmc3k']\n",
    "conditions=['knn_purity_X_umap_pca','knn_purity_X_umap_gplvm_PC','knn_purity_X_umap_gplvm_random']\n",
    "condition_names=['PCA', \"gplvm_PCA\", \"gplvm_random\"]\n",
    "for i in range(len(datasets)):\n",
    "    for j in range(len(conditions)):\n",
    "        tempdf= pd.DataFrame(columns=['knn','condition', 'dataset'])\n",
    "        tempdf['knn']= datasets[i].obs[conditions[j]]\n",
    "        tempdf['condition']= condition_names[j]\n",
    "        tempdf['dataset']= datasets_names[i]\n",
    "        knnpurity_data = pd.concat([knnpurity_data,tempdf])  \n",
    "\n",
    "knnpurity_data.to_csv(\"/home/jupyter/GPLVM_Shaista/ScaledVsUnscaled/Scaled/Knn_purity_Scaled.csv\")"
   ]
  }
 ],
 "metadata": {
  "environment": {
   "kernel": "gplvm_env",
   "name": "common-cu110.m82",
   "type": "gcloud",
   "uri": "gcr.io/deeplearning-platform-release/base-cu110:m82"
  },
  "kernelspec": {
   "display_name": "Environment (gplvm_env)",
   "language": "python",
   "name": "gplvm_env"
  },
  "language_info": {
   "codemirror_mode": {
    "name": "ipython",
    "version": 3
   },
   "file_extension": ".py",
   "mimetype": "text/x-python",
   "name": "python",
   "nbconvert_exporter": "python",
   "pygments_lexer": "ipython3",
   "version": "3.7.12"
  }
 },
 "nbformat": 4,
 "nbformat_minor": 5
}
